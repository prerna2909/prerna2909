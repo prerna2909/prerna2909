{
  "nbformat": 4,
  "nbformat_minor": 0,
  "metadata": {
    "colab": {
      "provenance": [],
      "authorship_tag": "ABX9TyN7y4tMyZFC/hNVimo+pq/+",
      "include_colab_link": true
    },
    "kernelspec": {
      "name": "python3",
      "display_name": "Python 3"
    },
    "language_info": {
      "name": "python"
    }
  },
  "cells": [
    {
      "cell_type": "markdown",
      "metadata": {
        "id": "view-in-github",
        "colab_type": "text"
      },
      "source": [
        "<a href=\"https://colab.research.google.com/github/prerna2909/prerna2909/blob/main/Copy_of_Rule_based_bot.ipynb\" target=\"_parent\"><img src=\"https://colab.research.google.com/assets/colab-badge.svg\" alt=\"Open In Colab\"/></a>"
      ]
    },
    {
      "cell_type": "code",
      "execution_count": null,
      "metadata": {
        "id": "uD0jiixZ5Qqe"
      },
      "outputs": [],
      "source": [
        "import re\n",
        "import random"
      ]
    },
    {
      "cell_type": "code",
      "source": [
        "class RuleBot:\n",
        "  ### Potential Negative Reponses\n",
        "  negative_reponses = (\"no\", \"nope\", \"nah\", \"naw\", \"not a chance\", \"sorry\")\n",
        "  ### Exit conversation Keywords\n",
        "  exit_commands = (\"quite\", \"exit\", \"goodbye\", \"bye\", \"later\")\n",
        "  ### Random starter question\n",
        "  random_questions = (\n",
        "      \"Why are you here? \",\n",
        "      \"Are there many humans like you? \",\n",
        "      \"What do you consume for sustenance? \",\n",
        "      \"Is there intelligence life on this planet? \",\n",
        "      \"Does Earth have a leader? \",\n",
        "      \"What planets have you visited? \",\n",
        "      \"What technology do you have on this planet? \"\n",
        "  )\n",
        "\n",
        "  def __init__(self):\n",
        "    self.alienbabble = {'describe_plant_intent': r'.*\\s*your planet.*',\n",
        "                        'answer_why_intent':r'why\\sare.*',\n",
        "                        'about_intellipat': r'.*\\s*intellipaat'\n",
        "                        }\n",
        "\n",
        "  def greet(self):\n",
        "      self.name = input(\"What is your name?\\n\")\n",
        "      will_help = input(\n",
        "          f\"Hi {self.name}, I am Rule Bot. Will you help me learn about your planet?\\n\")\n",
        "      if will_help in self.negative_reponses:\n",
        "        print(\"OK, have a nice Earth day!\")\n",
        "        return\n",
        "      self.chat()\n",
        "\n",
        "  def make_exit(self, reply):\n",
        "    for command in self.exit_commands:\n",
        "      if reply == command:\n",
        "        print(\"Okay, have a nice Earth day\")\n",
        "        return True\n",
        "\n",
        "  def chat(self):\n",
        "    reply = input(random.choice(self.random_questions)).lower()\n",
        "    while not self.make_exit(reply):\n",
        "      reply = input(self.match_reply(reply))\n",
        "\n",
        "  def match_reply(self, reply):\n",
        "    for key, value in self.alienbabble.items():\n",
        "      intent = key\n",
        "      regex_pattern = value\n",
        "      found_match = re.match(regex_pattern, reply)\n",
        "      if found_match and intent == 'describe_planet_intent':\n",
        "        return self.describe_planet_intent()\n",
        "      elif found_match and intent == 'answer_why_intent':\n",
        "        return self.answer_why_intent()\n",
        "      elif found_match and intent == 'about_intellipat':\n",
        "        return self.about_intellipat()\n",
        "    if not found_match:\n",
        "      return self.no_match_intent()\n",
        "\n",
        "  def describe_planet_intent(self):\n",
        "    responses = (\"My planet is a utopia of diverse organisms and species. \\n\",\n",
        "                \"I am from Opidipus, the capital of the Wayward Galaxies. \\n\")\n",
        "    return random.choice(responses)\n",
        "\n",
        "  def answer_why_intent(self):\n",
        "    responses = (\"I come in peace\\n\", \"I am here to collect data on your planet and its inhabitants\\n\",\n",
        "                \"I heard the coffee is good.\\n\")\n",
        "    return random.choice(responses)\n",
        "\n",
        "  def about_intellipat(self):\n",
        "    responses = (\"Intellipaat is world's largest professional educational company\\n\",\n",
        "                \"Intellipaat is where your career and skill grows\\n\")\n",
        "    return random.choice(responses)\n",
        "\n",
        "  def no_match_intent(self):\n",
        "    responses = (\"Please tell me more.\\n\", \"Tell me more!\\n\", \"Why do you say that?\\n\", \"I see. Can you elaborate?\\n\",\n",
        "                 \"Interesting. Can you tell me more?\\n\", \"I see. How do you think?\\n\", \"Why?\\n\",\n",
        "                 \"How do you think I feel when you say that?\\n\")\n",
        "    return random.choice(responses)\n",
        "\n",
        "AlienBot = RuleBot()\n",
        "AlienBot.greet()"
      ],
      "metadata": {
        "colab": {
          "base_uri": "https://localhost:8080/"
        },
        "id": "Kjr-s9t_5oKR",
        "outputId": "034cbe76-5165-47d1-a4f2-973af7799533"
      },
      "execution_count": null,
      "outputs": [
        {
          "output_type": "stream",
          "name": "stdout",
          "text": [
            "What is your name?\n",
            "abhinav\n",
            "Hi abhinav, I am Rule Bot. Will you help me learn about your planet?\n",
            "yes\n",
            "Is there intelligence life on this planet? yes\n",
            "Tell me more!\n",
            "many people are intelligence\n",
            "Why do you say that?\n",
            "they have their on thinking\n",
            "I see. How do you think?\n",
            "na\n",
            "Interesting. Can you tell me more?\n",
            "no\n",
            "I see. Can you elaborate?\n",
            "exit\n",
            "Okay, have a nice Earth day\n"
          ]
        }
      ]
    }
  ]
}